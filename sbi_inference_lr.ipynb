{
 "cells": [
  {
   "cell_type": "code",
   "execution_count": 1,
   "metadata": {},
   "outputs": [],
   "source": [
    "import numpy as np\n",
    "import matplotlib.pyplot as plt\n",
    "from Utils import *\n",
    "import numba as nb\n",
    "from numba import njit\n",
    "\n",
    "import torch\n",
    "from sbi.analysis import pairplot\n",
    "from sbi.inference import SNPE, simulate_for_sbi\n",
    "from sbi.utils import BoxUniform\n",
    "from sbi.utils.user_input_checks import (\n",
    "    check_sbi_inputs,\n",
    "    process_prior,\n",
    "    process_simulator,\n",
    ")\n",
    "from sbi.inference import SNPE, SNLE, prepare_for_sbi, simulate_for_sbi \n",
    "from sbi import analysis as analysis\n",
    "\n"
   ]
  },
  {
   "cell_type": "markdown",
   "metadata": {},
   "source": [
    "### 2. Filter the data of required conditions"
   ]
  },
  {
   "cell_type": "code",
   "execution_count": 4,
   "metadata": {},
   "outputs": [
    {
     "name": "stdout",
     "output_type": "stream",
     "text": [
      "Data loaded\n"
     ]
    },
    {
     "data": {
      "text/plain": [
       "(50000, 2)"
      ]
     },
     "execution_count": 4,
     "metadata": {},
     "output_type": "execute_result"
    }
   ],
   "source": [
    "# Load the simulated data\n",
    "data = np.load('saved/SBI_Results_lr_combined.npz')\n",
    "print(\"Data loaded\")\n",
    "data['theta'].shape"
   ]
  },
  {
   "cell_type": "code",
   "execution_count": 5,
   "metadata": {},
   "outputs": [],
   "source": [
    "# If the data is loaded but not simulated\n",
    "# Convert from numpy to torch\n",
    "theta = torch.from_numpy(data['theta'])\n",
    "x = torch.from_numpy(data['x'])"
   ]
  },
  {
   "cell_type": "code",
   "execution_count": 9,
   "metadata": {},
   "outputs": [
    {
     "data": {
      "text/plain": [
       "(tensor(0.1000), tensor(2.3842e-07))"
      ]
     },
     "execution_count": 9,
     "metadata": {},
     "output_type": "execute_result"
    }
   ],
   "source": [
    "# Range of values of theta\n",
    "u = theta.unique()\n",
    "u.max(), u.min()"
   ]
  },
  {
   "cell_type": "code",
   "execution_count": 4,
   "metadata": {},
   "outputs": [
    {
     "data": {
      "text/plain": [
       "(tensor([0.0206, 0.0255, 0.0456,  ..., 0.4392, 0.4412, 0.4469]),\n",
       " tensor([1, 1, 1,  ..., 1, 1, 1]))"
      ]
     },
     "execution_count": 4,
     "metadata": {},
     "output_type": "execute_result"
    }
   ],
   "source": [
    "# Filter for stability < 0.1\n",
    "# x - S, B, D, A, mu, sigma, r_squared\n",
    "# x[:,0].unique(return_counts=True)\n",
    "\n",
    "x[:,0].unique(return_counts=True)"
   ]
  },
  {
   "cell_type": "code",
   "execution_count": 5,
   "metadata": {},
   "outputs": [
    {
     "data": {
      "text/plain": [
       "tensor(369)"
      ]
     },
     "execution_count": 5,
     "metadata": {},
     "output_type": "execute_result"
    }
   ],
   "source": [
    "(x[:,0] < 0.1).sum()"
   ]
  },
  {
   "cell_type": "code",
   "execution_count": 13,
   "metadata": {},
   "outputs": [
    {
     "data": {
      "text/plain": [
       "(tensor(0.4469), tensor(0.0206))"
      ]
     },
     "execution_count": 13,
     "metadata": {},
     "output_type": "execute_result"
    }
   ],
   "source": [
    "# Check range of stability values\n",
    "uniq_s = x[:,0].unique()\n",
    "uniq_s.max(), uniq_s.min()"
   ]
  },
  {
   "cell_type": "code",
   "execution_count": 6,
   "metadata": {},
   "outputs": [
    {
     "data": {
      "text/plain": [
       "tensor([1.3138, 1.0761, 1.0176,  ..., 0.8698, 1.4468, 1.8533])"
      ]
     },
     "execution_count": 6,
     "metadata": {},
     "output_type": "execute_result"
    }
   ],
   "source": [
    "x[idx, 5]"
   ]
  },
  {
   "cell_type": "code",
   "execution_count": 12,
   "metadata": {},
   "outputs": [
    {
     "data": {
      "text/plain": [
       "torch.Size([7161, 1])"
      ]
     },
     "execution_count": 12,
     "metadata": {},
     "output_type": "execute_result"
    }
   ],
   "source": [
    "# FILTERED THE DATA FOR THE DESIRED VALUES OF LOSS\n",
    "\n",
    "# Filter second on S\n",
    "idx = x[:,0] < 0.2\n",
    "\n",
    "theta_filtered = theta[idx]\n",
    "# Only select the corresponding value of sigma\n",
    "x_filtered = x[idx,5][:,None]\n",
    "x_filtered.size()"
   ]
  },
  {
   "cell_type": "code",
   "execution_count": 14,
   "metadata": {},
   "outputs": [
    {
     "data": {
      "text/plain": [
       "tensor(0)"
      ]
     },
     "execution_count": 14,
     "metadata": {},
     "output_type": "execute_result"
    }
   ],
   "source": [
    "theta.isnan().sum()"
   ]
  },
  {
   "cell_type": "code",
   "execution_count": 15,
   "metadata": {},
   "outputs": [],
   "source": [
    "# Define the prior \n",
    "# number of parameters\n",
    "num_dim = 2 # eta_e, eta_i\n",
    "\n",
    "# Define priors \n",
    "prior = BoxUniform(low=0 * torch.ones(num_dim), high=0.1 * torch.ones(num_dim))\n",
    "\n",
    "\n",
    "#estimator = posterior_nn(model='nsf')\n",
    "# instantiate the inference object\n",
    "inference = SNPE(prior=prior)\n",
    "# compute the inference\n",
    "# ACHTUNG! need to change theta_filtered and x_filtered\n",
    "inference = inference.append_simulations(theta_filtered, x_filtered)\n"
   ]
  },
  {
   "cell_type": "code",
   "execution_count": 16,
   "metadata": {},
   "outputs": [
    {
     "data": {
      "text/plain": [
       "<sbi.inference.snpe.snpe_c.SNPE_C at 0x7fba8835ba10>"
      ]
     },
     "execution_count": 16,
     "metadata": {},
     "output_type": "execute_result"
    }
   ],
   "source": [
    "inference"
   ]
  },
  {
   "cell_type": "code",
   "execution_count": 17,
   "metadata": {},
   "outputs": [
    {
     "name": "stdout",
     "output_type": "stream",
     "text": [
      " Neural network successfully converged after 207 epochs."
     ]
    }
   ],
   "source": [
    "# train the neural density estimator\n",
    "density_estimator = inference.train()\n"
   ]
  },
  {
   "cell_type": "code",
   "execution_count": 22,
   "metadata": {},
   "outputs": [],
   "source": [
    "# Generate the posterior\n",
    "posterior = inference.build_posterior(density_estimator)\n"
   ]
  },
  {
   "cell_type": "code",
   "execution_count": 23,
   "metadata": {},
   "outputs": [
    {
     "data": {
      "text/plain": [
       "DirectPosterior sampler for potential_fn=<PosteriorBasedPotential>"
      ]
     },
     "execution_count": 23,
     "metadata": {},
     "output_type": "execute_result"
    }
   ],
   "source": [
    "posterior"
   ]
  },
  {
   "cell_type": "markdown",
   "metadata": {},
   "source": [
    "### 3. Study posterior distribution"
   ]
  },
  {
   "cell_type": "code",
   "execution_count": 37,
   "metadata": {},
   "outputs": [],
   "source": [
    "# Take an observation of a standard deviation of 0.9\n",
    "observation = torch.zeros(1) + 0.01\n",
    "#observation\n",
    "#.set_default_x()\n",
    "# generate the first observation\n",
    "# theta_1 = prior.sample((1,))\n",
    "# e_target = 5.0, i_target = 1.5, nonlinparams = 0, E_inputs =200 , I_inputs = 50, E_currents =, I_currents, W_dend_E, W_dend_I, dendrite_leak, tau, dt, params, time\n",
    "#x_obs_1 = simulate_neuron_lr(theta_1)\n",
    "# theta_1"
   ]
  },
  {
   "cell_type": "code",
   "execution_count": 38,
   "metadata": {},
   "outputs": [
    {
     "data": {
      "application/vnd.jupyter.widget-view+json": {
       "model_id": "ebdcbe87a3854ccc9524acdbbfebefad",
       "version_major": 2,
       "version_minor": 0
      },
      "text/plain": [
       "Drawing 10000 posterior samples:   0%|          | 0/10000 [00:00<?, ?it/s]"
      ]
     },
     "metadata": {},
     "output_type": "display_data"
    }
   ],
   "source": [
    "posterior_samples = posterior.sample((10000,), x=observation)\n"
   ]
  },
  {
   "cell_type": "code",
   "execution_count": 39,
   "metadata": {},
   "outputs": [
    {
     "data": {
      "image/png": "[encoded data removed]",
      "text/plain": [
       "<Figure size 500x500 with 4 Axes>"
      ]
     },
     "metadata": {},
     "output_type": "display_data"
    }
   ],
   "source": [
    "\n",
    "# plot posterior samples\n",
    "_ = analysis.pairplot(\n",
    "    posterior_samples, limits=[[0,0.1], [0, 0.2]], figsize=(5, 5)\n",
    ")"
   ]
  },
  {
   "cell_type": "code",
   "execution_count": 36,
   "metadata": {},
   "outputs": [
    {
     "data": {
      "text/plain": [
       "'\\nnum_rounds = 2\\nposteriors = []\\nproposal = prior\\n\\n\\nfor _ in range(num_rounds):\\n    #theta, x = simulate_for_sbi(simulator, proposal, num_simulations=500)\\n    density_estimator = inference.append_simulations(\\n        theta, x, proposal=proposal\\n    ).train()\\n    posterior = inference.build_posterior(density_estimator)\\n    posteriors.append(posterior)\\n    proposal = posterior.set_default_x(observation)\\n\\n\\n'"
      ]
     },
     "execution_count": 36,
     "metadata": {},
     "output_type": "execute_result"
    }
   ],
   "source": [
    "# inference on several rounds\n",
    "\"\"\"\n",
    "num_rounds = 2\n",
    "posteriors = []\n",
    "proposal = prior\n",
    "\n",
    "\n",
    "for _ in range(num_rounds):\n",
    "    #theta, x = simulate_for_sbi(simulator, proposal, num_simulations=500)\n",
    "    density_estimator = inference.append_simulations(\n",
    "        theta, x, proposal=proposal\n",
    "    ).train()\n",
    "    posterior = inference.build_posterior(density_estimator)\n",
    "    posteriors.append(posterior)\n",
    "    proposal = posterior.set_default_x(observation)\n",
    "\n",
    "\n",
    "\"\"\""
   ]
  },
  {
   "cell_type": "code",
   "execution_count": 16,
   "metadata": {},
   "outputs": [
    {
     "ename": "NameError",
     "evalue": "name 'simulator_neuron' is not defined",
     "output_type": "error",
     "traceback": [
      "\u001b[0;31m---------------------------------------------------------------------------\u001b[0m",
      "\u001b[0;31mNameError\u001b[0m                                 Traceback (most recent call last)",
      "Cell \u001b[0;32mIn[16], line 6\u001b[0m\n\u001b[1;32m      3\u001b[0m observation \u001b[38;5;241m=\u001b[39m torch\u001b[38;5;241m.\u001b[39mtensor([\u001b[38;5;241m0.2\u001b[39m, \u001b[38;5;241m0.33\u001b[39m])\n\u001b[1;32m      5\u001b[0m \u001b[38;5;66;03m# Simulate with the parameters:\u001b[39;00m\n\u001b[0;32m----> 6\u001b[0m sum_statistics  \u001b[38;5;241m=\u001b[39m simulator_neuron(observation)\n",
      "\u001b[0;31mNameError\u001b[0m: name 'simulator_neuron' is not defined"
     ]
    }
   ],
   "source": [
    "true_params = [0.2, 0.33]\n",
    "# generate an obersevation\n",
    "observation = torch.tensor([0.2, 0.33])\n",
    "\n",
    "# Simulate with the parameters:\n",
    "sum_statistics  = simulator_neuron(observation)\n"
   ]
  },
  {
   "cell_type": "code",
   "execution_count": 75,
   "metadata": {},
   "outputs": [],
   "source": [
    "A, mu, sigma = sum_statistics[3], sum_statistics[4], sum_statistics[5]"
   ]
  },
  {
   "cell_type": "code",
   "execution_count": 84,
   "metadata": {},
   "outputs": [
    {
     "data": {
      "text/plain": [
       "[<matplotlib.lines.Line2D at 0x7f90384213d0>]"
      ]
     },
     "execution_count": 84,
     "metadata": {},
     "output_type": "execute_result"
    },
    {
     "data": {
      "image/png": "[encoded data removed]",
      "text/plain": [
       "<Figure size 640x480 with 1 Axes>"
      ]
     },
     "metadata": {},
     "output_type": "display_data"
    }
   ],
   "source": [
    "def gaussian(x, A, mu, sigma):\n",
    "    return A * np.exp(- (x - mu)**2 / (2 * sigma**2))\n",
    "\n",
    "\n",
    "x = np.linspace(0, np.pi, 1000) \n",
    "y = gaussian(x, A, mu, sigma)\n",
    "\n",
    "\n",
    "plt.plot(x, y)"
   ]
  },
  {
   "cell_type": "code",
   "execution_count": 82,
   "metadata": {},
   "outputs": [
    {
     "data": {
      "text/plain": [
       "(450,)"
      ]
     },
     "execution_count": 82,
     "metadata": {},
     "output_type": "execute_result"
    }
   ],
   "source": [
    "y.shape"
   ]
  },
  {
   "cell_type": "markdown",
   "metadata": {},
   "source": []
  },
  {
   "cell_type": "code",
   "execution_count": 67,
   "metadata": {},
   "outputs": [
    {
     "data": {
      "application/vnd.jupyter.widget-view+json": {
       "model_id": "117caaeb787e41dcaf3df39a56f0d1da",
       "version_major": 2,
       "version_minor": 0
      },
      "text/plain": [
       "Drawing 10000 posterior samples:   0%|          | 0/10000 [00:00<?, ?it/s]"
      ]
     },
     "metadata": {},
     "output_type": "display_data"
    }
   ],
   "source": [
    "samples = posterior.sample((10000,), x=sum_statistics)\n"
   ]
  },
  {
   "cell_type": "code",
   "execution_count": 72,
   "metadata": {},
   "outputs": [],
   "source": [
    "#HBox(children=(FloatProgress(value=0.0, description='Drawing 10000 posterior samples', max=10000.0)\n"
   ]
  },
  {
   "cell_type": "code",
   "execution_count": 86,
   "metadata": {},
   "outputs": [
    {
     "ename": "IndexError",
     "evalue": "string index out of range",
     "output_type": "error",
     "traceback": [
      "\u001b[0;31m---------------------------------------------------------------------------\u001b[0m",
      "\u001b[0;31mIndexError\u001b[0m                                Traceback (most recent call last)",
      "Cell \u001b[0;32mIn[86], line 1\u001b[0m\n\u001b[0;32m----> 1\u001b[0m fig, axes \u001b[38;5;241m=\u001b[39m analysis\u001b[38;5;241m.\u001b[39mpairplot(\n\u001b[1;32m      2\u001b[0m     samples,\n\u001b[1;32m      3\u001b[0m     limits\u001b[38;5;241m=\u001b[39m[[\u001b[38;5;241m0.5\u001b[39m, \u001b[38;5;241m80\u001b[39m], [\u001b[38;5;241m1e-4\u001b[39m, \u001b[38;5;241m15.0\u001b[39m]],\n\u001b[1;32m      4\u001b[0m     ticks\u001b[38;5;241m=\u001b[39m[[\u001b[38;5;241m0.5\u001b[39m, \u001b[38;5;241m80\u001b[39m], [\u001b[38;5;241m1e-4\u001b[39m, \u001b[38;5;241m15.0\u001b[39m]],\n\u001b[1;32m      5\u001b[0m     figsize\u001b[38;5;241m=\u001b[39m(\u001b[38;5;241m5\u001b[39m, \u001b[38;5;241m5\u001b[39m),\n\u001b[1;32m      6\u001b[0m     points\u001b[38;5;241m=\u001b[39mtrue_params,\n\u001b[1;32m      7\u001b[0m     points_offdiag\u001b[38;5;241m=\u001b[39m{\u001b[38;5;124m\"\u001b[39m\u001b[38;5;124mmarkersize\u001b[39m\u001b[38;5;124m\"\u001b[39m: \u001b[38;5;241m6\u001b[39m},\n\u001b[1;32m      8\u001b[0m     points_colors\u001b[38;5;241m=\u001b[39m\u001b[38;5;124m\"\u001b[39m\u001b[38;5;124mr\u001b[39m\u001b[38;5;124m\"\u001b[39m,\n\u001b[1;32m      9\u001b[0m )\n",
      "File \u001b[0;32m~/.conda/envs/myenv/lib/python3.11/site-packages/sbi/analysis/plot.py:461\u001b[0m, in \u001b[0;36mpairplot\u001b[0;34m(samples, points, limits, subset, offdiag, diag, figsize, labels, ticks, upper, fig, axes, **kwargs)\u001b[0m\n\u001b[1;32m    458\u001b[0m             \u001b[38;5;28;01melse\u001b[39;00m:\n\u001b[1;32m    459\u001b[0m                 \u001b[38;5;28;01mpass\u001b[39;00m\n\u001b[0;32m--> 461\u001b[0m \u001b[38;5;28;01mreturn\u001b[39;00m _arrange_plots(\n\u001b[1;32m    462\u001b[0m     diag_func, offdiag_func, dim, limits, points, opts, fig\u001b[38;5;241m=\u001b[39mfig, axes\u001b[38;5;241m=\u001b[39maxes\n\u001b[1;32m    463\u001b[0m )\n",
      "File \u001b[0;32m~/.conda/envs/myenv/lib/python3.11/site-packages/sbi/analysis/plot.py:892\u001b[0m, in \u001b[0;36m_arrange_plots\u001b[0;34m(diag_func, offdiag_func, dim, limits, points, opts, fig, axes)\u001b[0m\n\u001b[1;32m    887\u001b[0m     extent \u001b[38;5;241m=\u001b[39m ax\u001b[38;5;241m.\u001b[39mget_ylim()\n\u001b[1;32m    888\u001b[0m     \u001b[38;5;28;01mfor\u001b[39;00m n, v \u001b[38;5;129;01min\u001b[39;00m \u001b[38;5;28menumerate\u001b[39m(points):\n\u001b[1;32m    889\u001b[0m         plt\u001b[38;5;241m.\u001b[39mplot(\n\u001b[1;32m    890\u001b[0m             [v[:, col], v[:, col]],\n\u001b[1;32m    891\u001b[0m             extent,\n\u001b[0;32m--> 892\u001b[0m             color\u001b[38;5;241m=\u001b[39mopts[\u001b[38;5;124m\"\u001b[39m\u001b[38;5;124mpoints_colors\u001b[39m\u001b[38;5;124m\"\u001b[39m][n],\n\u001b[1;32m    893\u001b[0m             \u001b[38;5;241m*\u001b[39m\u001b[38;5;241m*\u001b[39mopts[\u001b[38;5;124m\"\u001b[39m\u001b[38;5;124mpoints_diag\u001b[39m\u001b[38;5;124m\"\u001b[39m],\n\u001b[1;32m    894\u001b[0m             label\u001b[38;5;241m=\u001b[39mopts[\u001b[38;5;124m\"\u001b[39m\u001b[38;5;124mpoints_labels\u001b[39m\u001b[38;5;124m\"\u001b[39m][n],\n\u001b[1;32m    895\u001b[0m         )\n\u001b[1;32m    896\u001b[0m \u001b[38;5;28;01mif\u001b[39;00m opts[\u001b[38;5;124m\"\u001b[39m\u001b[38;5;124mlegend\u001b[39m\u001b[38;5;124m\"\u001b[39m] \u001b[38;5;129;01mand\u001b[39;00m col \u001b[38;5;241m==\u001b[39m \u001b[38;5;241m0\u001b[39m:\n\u001b[1;32m    897\u001b[0m     plt\u001b[38;5;241m.\u001b[39mlegend(\u001b[38;5;241m*\u001b[39m\u001b[38;5;241m*\u001b[39mopts[\u001b[38;5;124m\"\u001b[39m\u001b[38;5;124mlegend_kwargs\u001b[39m\u001b[38;5;124m\"\u001b[39m])\n",
      "\u001b[0;31mIndexError\u001b[0m: string index out of range"
     ]
    },
    {
     "data": {
      "image/png": "[encoded data removed]",
      "text/plain": [
       "<Figure size 500x500 with 4 Axes>"
      ]
     },
     "metadata": {},
     "output_type": "display_data"
    }
   ],
   "source": [
    "fig, axes = analysis.pairplot(\n",
    "    samples,\n",
    "    limits=[[0.5, 80], [1e-4, 15.0]],\n",
    "    ticks=[[0.5, 80], [1e-4, 15.0]],\n",
    "    figsize=(5, 5),\n",
    "    points=true_params,\n",
    "    points_offdiag={\"markersize\": 6},\n",
    "    points_colors=\"r\",\n",
    ");"
   ]
  }
 ],
 "metadata": {
  "kernelspec": {
   "display_name": "myenv",
   "language": "python",
   "name": "python3"
  },
  "language_info": {
   "codemirror_mode": {
    "name": "ipython",
    "version": 3
   },
   "file_extension": ".py",
   "mimetype": "text/x-python",
   "name": "python",
   "nbconvert_exporter": "python",
   "pygments_lexer": "ipython3",
   "version": "3.11.2"
  }
 },
 "nbformat": 4,
 "nbformat_minor": 2
}
