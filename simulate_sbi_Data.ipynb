{
 "cells": [
  {
   "cell_type": "code",
   "execution_count": 1,
   "metadata": {},
   "outputs": [],
   "source": [
    "import numpy as np\n",
    "import matplotlib.pyplot as plt\n",
    "from Utils import *\n",
    "import numba as nb\n",
    "from numba import njit\n",
    "\n",
    "import torch\n",
    "from sbi.analysis import pairplot\n",
    "from sbi.inference import SNPE, simulate_for_sbi\n",
    "from sbi.utils import BoxUniform\n",
    "from sbi.utils.user_input_checks import (\n",
    "    check_sbi_inputs,\n",
    "    process_prior,\n",
    "    process_simulator,\n",
    ")\n",
    "\n",
    "from sbi import analysis as analysis\n",
    "import sbi.utils.sbiutils\n"
   ]
  },
  {
   "cell_type": "markdown",
   "metadata": {},
   "source": [
    "## Round 1\n",
    "### 1. Simulate data from prior"
   ]
  },
  {
   "cell_type": "markdown",
   "metadata": {},
   "source": [
    "##### Define the simulator"
   ]
  },
  {
   "cell_type": "code",
   "execution_count": 2,
   "metadata": {},
   "outputs": [],
   "source": [
    "\n",
    "def simulator_neuron(parameters):\n",
    "    \n",
    "    p = parameters.cpu().detach().numpy()\n",
    "    # parameters.cpu().detach().numpy() converts a pytorch tensor into a numpy array \n",
    "    (S, B, D, A, mu, sigma, r_squared) = run_network_plasticity(p)\n",
    "    \n",
    "    return (S, B, D, A, mu, sigma, r_squared)"
   ]
  },
  {
   "cell_type": "code",
   "execution_count": 3,
   "metadata": {},
   "outputs": [
    {
     "data": {
      "text/plain": [
       "tensor([-1., -1., -1., -1., -1., -1., -1., -1.])"
      ]
     },
     "execution_count": 3,
     "metadata": {},
     "output_type": "execute_result"
    }
   ],
   "source": [
    "num_dim = 8\n",
    "-1 * torch.ones(num_dim)"
   ]
  },
  {
   "cell_type": "code",
   "execution_count": 4,
   "metadata": {},
   "outputs": [
    {
     "data": {
      "text/plain": [
       "BoxUniform(Uniform(low: torch.Size([8]), high: torch.Size([8])), 1)"
      ]
     },
     "execution_count": 4,
     "metadata": {},
     "output_type": "execute_result"
    }
   ],
   "source": [
    "# number of parameters\n",
    "num_dim = 8 # eta_e, eta_i\n",
    "\n",
    "# Define priors \n",
    "prior = BoxUniform(low=-1 * torch.ones(num_dim), high=1 * torch.ones(num_dim))\n",
    "\n",
    "# Simulator is run_network from utils\n",
    "prior"
   ]
  },
  {
   "cell_type": "code",
   "execution_count": 5,
   "metadata": {},
   "outputs": [],
   "source": [
    "# Ensure compliance with sbi's requirements\n",
    "prior, num_parameters, prior_returns_numpy = process_prior(prior)\n",
    "simulator = process_simulator(simulator_neuron, prior, prior_returns_numpy)\n",
    "\n",
    "# Consistency check after making ready for sbi.\n",
    "check_sbi_inputs(simulator, prior)"
   ]
  },
  {
   "cell_type": "code",
   "execution_count": 6,
   "metadata": {},
   "outputs": [],
   "source": [
    "# Indicate the type of inference to perform\n",
    "#simulator, prior = prepare_for_sbi(simulator, prior)\n",
    "#estimator = posterior_nn(model='nsf')\n",
    "#inference = SNPE(prior=prior,density_estimator=estimator)\n",
    "\n",
    "#     estimator = posterior_nn(model='nsf')\n",
    "#     inference = SNPE(prior=prior,density_estimator=estimator)"
   ]
  },
  {
   "cell_type": "code",
   "execution_count": 7,
   "metadata": {},
   "outputs": [],
   "source": [
    "#     # set the default values for fitting \n",
    "proposal = prior\n",
    "posteriors =[]"
   ]
  },
  {
   "cell_type": "code",
   "execution_count": 10,
   "metadata": {},
   "outputs": [
    {
     "data": {
      "application/vnd.jupyter.widget-view+json": {
       "model_id": "001bedf05cb94e9082c63a9e16a5ca31",
       "version_major": 2,
       "version_minor": 0
      },
      "text/plain": [
       "  0%|          | 0/100 [00:00<?, ?it/s]"
      ]
     },
     "metadata": {},
     "output_type": "display_data"
    },
    {
     "ename": "",
     "evalue": "",
     "output_type": "error",
     "traceback": [
      "\u001b[1;31mFailed to interrupt the Kernel. \n",
      "\u001b[1;31mUnable to start Kernel 'envsbi (Python 3.12.5)' due to a timeout waiting for the ports to get used. \n",
      "\u001b[1;31mView Jupyter <a href='command:jupyter.viewOutput'>log</a> for further details."
     ]
    }
   ],
   "source": [
    "# Simulate the plasticity rules from parameters sampled from the prior\n",
    "theta, x = simulate_for_sbi(simulator,\n",
    "                          proposal=proposal, \n",
    "                                 num_simulations=100, \n",
    "                                 num_workers=4, show_progress_bar=True) "
   ]
  },
  {
   "cell_type": "code",
   "execution_count": null,
   "metadata": {},
   "outputs": [],
   "source": [
    "#np.savez('saved/SBI_Results_thetas_100', theta=theta, x=x)"
   ]
  },
  {
   "cell_type": "code",
   "execution_count": null,
   "metadata": {},
   "outputs": [],
   "source": [
    "#simulate_neuron_plasticity(e_target, i_target, nonlinparams, E_inputs, I_inputs, E_currents, I_currents, W_dend_E, W_dend_I, dendrite_leak, tau, dt, params, time):\n"
   ]
  }
 ],
 "metadata": {
  "kernelspec": {
   "display_name": "myenv",
   "language": "python",
   "name": "python3"
  },
  "language_info": {
   "codemirror_mode": {
    "name": "ipython",
    "version": 3
   },
   "file_extension": ".py",
   "mimetype": "text/x-python",
   "name": "python",
   "nbconvert_exporter": "python",
   "pygments_lexer": "ipython3",
   "version": "3.12.5"
  }
 },
 "nbformat": 4,
 "nbformat_minor": 2
}
