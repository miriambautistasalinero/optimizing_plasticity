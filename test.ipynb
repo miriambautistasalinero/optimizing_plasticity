{
 "cells": [
  {
   "cell_type": "code",
   "execution_count": 1,
   "metadata": {},
   "outputs": [],
   "source": [
    "import numpy as np\n",
    "import matplotlib.pyplot as plt\n",
    "from scipy.optimize import curve_fit"
   ]
  },
  {
   "cell_type": "markdown",
   "metadata": {},
   "source": [
    "## CHECKING THE CODE"
   ]
  },
  {
   "cell_type": "code",
   "execution_count": 2,
   "metadata": {},
   "outputs": [
    {
     "name": "stdout",
     "output_type": "stream",
     "text": [
      "s*Os:(s+1)*Os 0 20\n",
      "s*Os:(s+1)*Os 20 40\n",
      "s*Os:(s+1)*Os 40 60\n",
      "s*Os:(s+1)*Os 60 80\n",
      "s*Os:(s+1)*Os 80 100\n",
      "s*Os:(s+1)*Os 100 120\n",
      "s*Os:(s+1)*Os 120 140\n",
      "s*Os:(s+1)*Os 140 160\n",
      "s*Os:(s+1)*Os 160 180\n",
      "s*Os:(s+1)*Os 180 200\n"
     ]
    }
   ],
   "source": [
    "Out = 200\n",
    "In = 10\n",
    "\n",
    "W_mask = np.zeros((Out, In))\n",
    "    \n",
    "Os = Out//In    \n",
    "for s in range(In):\n",
    "    print(\"s*Os:(s+1)*Os\", s*Os,(s+1)*Os)\n",
    "    W_mask[s*Os:(s+1)*Os, s] = 1"
   ]
  },
  {
   "cell_type": "code",
   "execution_count": 3,
   "metadata": {},
   "outputs": [
    {
     "ename": "NameError",
     "evalue": "name 'r' is not defined",
     "output_type": "error",
     "traceback": [
      "\u001b[0;31m---------------------------------------------------------------------------\u001b[0m",
      "\u001b[0;31mNameError\u001b[0m                                 Traceback (most recent call last)",
      "Cell \u001b[0;32mIn[3], line 2\u001b[0m\n\u001b[1;32m      1\u001b[0m \u001b[38;5;28;01mfor\u001b[39;00m s \u001b[38;5;129;01min\u001b[39;00m \u001b[38;5;28mrange\u001b[39m(Out):\n\u001b[0;32m----> 2\u001b[0m     \u001b[38;5;28;01mif\u001b[39;00m np\u001b[38;5;241m.\u001b[39mrandom\u001b[38;5;241m.\u001b[39mrand() \u001b[38;5;241m<\u001b[39m r:\n\u001b[1;32m      3\u001b[0m         x \u001b[38;5;241m=\u001b[39m np\u001b[38;5;241m.\u001b[39mrandom\u001b[38;5;241m.\u001b[39mrandint(Out)\n\u001b[1;32m      4\u001b[0m         W_mask[[s, x]] \u001b[38;5;241m=\u001b[39m  W_mask[[x, s]]\n",
      "\u001b[0;31mNameError\u001b[0m: name 'r' is not defined"
     ]
    }
   ],
   "source": [
    "for s in range(Out):\n",
    "    if np.random.rand() < r:\n",
    "        x = np.random.randint(Out)\n",
    "        W_mask[[s, x]] =  W_mask[[x, s]]"
   ]
  },
  {
   "cell_type": "code",
   "execution_count": null,
   "metadata": {},
   "outputs": [],
   "source": [
    "def activation(x, y, sigma = np.pi/9):\n",
    "    return np.exp(-((x-y)**2)/(2*(sigma)**2))"
   ]
  },
  {
   "cell_type": "code",
   "execution_count": 5,
   "metadata": {},
   "outputs": [
    {
     "ename": "NameError",
     "evalue": "name 'pulse_time' is not defined",
     "output_type": "error",
     "traceback": [
      "\u001b[0;31m---------------------------------------------------------------------------\u001b[0m",
      "\u001b[0;31mNameError\u001b[0m                                 Traceback (most recent call last)",
      "Cell \u001b[0;32mIn[5], line 8\u001b[0m\n\u001b[1;32m      5\u001b[0m time \u001b[38;5;241m=\u001b[39m \u001b[38;5;241m180000\u001b[39m \u001b[38;5;66;03m# ms\u001b[39;00m\n\u001b[1;32m      7\u001b[0m timesteps \u001b[38;5;241m=\u001b[39m \u001b[38;5;28mint\u001b[39m(time\u001b[38;5;241m/\u001b[39mdt)\n\u001b[0;32m----> 8\u001b[0m pulse_len \u001b[38;5;241m=\u001b[39m \u001b[38;5;28mint\u001b[39m(pulse_time\u001b[38;5;241m/\u001b[39mdt)\n",
      "\u001b[0;31mNameError\u001b[0m: name 'pulse_time' is not defined"
     ]
    }
   ],
   "source": [
    "E_inputs = 200\n",
    "I_inputs = 50\n",
    "Groups = 10\n",
    "dt = 0.1\n",
    "time = 180000 # ms\n",
    "\n",
    "timesteps = int(time/dt)\n",
    "pulse_len = int(pulse_time/dt)\n"
   ]
  },
  {
   "cell_type": "code",
   "execution_count": 4,
   "metadata": {},
   "outputs": [
    {
     "ename": "NameError",
     "evalue": "name 'time' is not defined",
     "output_type": "error",
     "traceback": [
      "\u001b[0;31m---------------------------------------------------------------------------\u001b[0m",
      "\u001b[0;31mNameError\u001b[0m                                 Traceback (most recent call last)",
      "Cell \u001b[0;32mIn[4], line 6\u001b[0m\n\u001b[1;32m      3\u001b[0m Groups \u001b[38;5;241m=\u001b[39m \u001b[38;5;241m10\u001b[39m\n\u001b[1;32m      4\u001b[0m dt \u001b[38;5;241m=\u001b[39m \u001b[38;5;241m0.1\u001b[39m\n\u001b[0;32m----> 6\u001b[0m timesteps \u001b[38;5;241m=\u001b[39m \u001b[38;5;28mint\u001b[39m(time\u001b[38;5;241m/\u001b[39mdt)\n\u001b[1;32m      7\u001b[0m pulse_len \u001b[38;5;241m=\u001b[39m \u001b[38;5;28mint\u001b[39m(pulse_time\u001b[38;5;241m/\u001b[39mdt)\n\u001b[1;32m      9\u001b[0m \u001b[38;5;66;03m# Each input group is selective to one orientation\u001b[39;00m\n",
      "\u001b[0;31mNameError\u001b[0m: name 'time' is not defined"
     ]
    }
   ],
   "source": [
    "\n",
    "# Each input group is selective to one orientation\n",
    "selectivity = np.linspace(0, np.pi, Groups)\n",
    "\n",
    "E_group_size = int(E_inputs/Groups)\n",
    "# E_selectivity - each 20 e_nuerons are selective to the same orientation\n",
    "E_Selectivity = np.repeat(selectivity, E_group_size)\n",
    "Se = np.ones((timesteps, E_inputs))\n",
    "\n",
    "I_group_size = int(I_inputs/Groups)\n",
    "I_Selectivity = np.repeat(selectivity, I_group_size)\n",
    "Si = np.ones((timesteps, I_inputs))\n",
    "\n",
    "\n",
    "for i in range(num_pulse):\n",
    "    Se[i*pulse_len:(i+1)*pulse_len, :] = activation(E_Selectivity, angle[i], sigma = np.pi/6)\n",
    "    Si[i*pulse_len:(i+1)*pulse_len, :] = activation(I_Selectivity, angle[i], sigma = np.pi/4)\n"
   ]
  },
  {
   "cell_type": "code",
   "execution_count": 8,
   "metadata": {},
   "outputs": [
    {
     "data": {
      "text/plain": [
       "0.25"
      ]
     },
     "execution_count": 8,
     "metadata": {},
     "output_type": "execute_result"
    }
   ],
   "source": [
    "# initialize voltage of postsynaptic neuron\n",
    "v = np.zeros(timesteps)\n",
    "v = 0.25\n",
    "\n",
    "v"
   ]
  },
  {
   "cell_type": "code",
   "execution_count": 78,
   "metadata": {},
   "outputs": [
    {
     "data": {
      "text/plain": [
       "array([0.        , 0.34906585, 0.6981317 , 1.04719755, 1.3962634 ,\n",
       "       1.74532925, 2.0943951 , 2.44346095, 2.7925268 , 3.14159265])"
      ]
     },
     "execution_count": 78,
     "metadata": {},
     "output_type": "execute_result"
    }
   ],
   "source": [
    "selectivity"
   ]
  },
  {
   "cell_type": "markdown",
   "metadata": {},
   "source": [
    "## FIXED GAUSSIAN"
   ]
  },
  {
   "cell_type": "code",
   "execution_count": 2,
   "metadata": {},
   "outputs": [],
   "source": [
    "def gaussian(x, A, mu, sigma):\n",
    "    return A * np.exp(- (x - mu)**2 / (2 * sigma**2))"
   ]
  },
  {
   "cell_type": "code",
   "execution_count": 3,
   "metadata": {},
   "outputs": [],
   "source": [
    "time = 180000 # ms\n",
    "pulse_time = 200 \n",
    "num_pulse = int(time/pulse_time)\n",
    "\n",
    "# generate an angle for each num of inputs - so each neuron has a different angle?\n",
    "angle = np.pi*np.random.rand(num_pulse)"
   ]
  },
  {
   "cell_type": "code",
   "execution_count": 4,
   "metadata": {},
   "outputs": [],
   "source": [
    "l = int(len(angle)//2)\n",
    "# Take the last half of the data \n",
    "# The angles are the orientation of that they are selective to \n",
    "x = angle[-l:]"
   ]
  },
  {
   "cell_type": "code",
   "execution_count": 41,
   "metadata": {},
   "outputs": [],
   "source": [
    "A_gen = 0.07755296390974901\n",
    "mu_gen = 0.123805697052996661\n",
    "sigma_gen = 0.21893699856373036"
   ]
  },
  {
   "cell_type": "code",
   "execution_count": 42,
   "metadata": {},
   "outputs": [],
   "source": [
    "#A = 5.11*10**(-5)\n",
    "#mu = 8.59902*(-1)\n",
    "#sigma = 8.803*(-2)\n",
    "# A=0.07755296390974901, mu=0.3805697052996661, sigma=0.21893699856373036"
   ]
  },
  {
   "cell_type": "code",
   "execution_count": 43,
   "metadata": {},
   "outputs": [],
   "source": [
    "# Generate data using the fitted parameters\n",
    "#x = np.linspace(mu - 4*sigma, mu + 4*sigma, 450)  # 1000 points from -4*sigma to +4*sigma around the mean\n",
    "y = gaussian(x, A_gen, mu_gen, sigma_gen) "
   ]
  },
  {
   "cell_type": "code",
   "execution_count": 53,
   "metadata": {},
   "outputs": [],
   "source": [
    "y = y + 0.005*np.random.normal(size=x.size)\n",
    "# Replace rate values smaller than 0 to 0\n",
    "y = np.where(y < 0, 0, y)\n",
    "y = np.where(x > 0.7, 0, y)"
   ]
  },
  {
   "cell_type": "code",
   "execution_count": 66,
   "metadata": {},
   "outputs": [],
   "source": [
    "popt, pcov = curve_fit(gaussian, x, y, maxfev = 150000)\n",
    "A, mu, sigma = popt\n",
    "\n",
    "# Generate data using the fitted parameters\n",
    "x_fit = np.linspace(0, np.pi, 1000)\n",
    "y_fit = gaussian(x_fit, A, mu, sigma)"
   ]
  },
  {
   "cell_type": "code",
   "execution_count": 67,
   "metadata": {},
   "outputs": [
    {
     "data": {
      "image/png": "[encoded data removed]",
      "text/plain": [
       "<Figure size 640x480 with 1 Axes>"
      ]
     },
     "metadata": {},
     "output_type": "display_data"
    }
   ],
   "source": [
    "plt.plot(x, y, 'o', label='Generated rate')\n",
    "plt.plot(x_fit, y_fit, '-', label='Fitted Gaussian')\n",
    "\n",
    "plt.xlabel('Orientation (degrees)')\n",
    "plt.ylabel('Spike Count')\n",
    "plt.title('Neuron Tuning Curve')\n",
    "plt.legend()\n",
    "plt.show()"
   ]
  },
  {
   "cell_type": "code",
   "execution_count": 68,
   "metadata": {},
   "outputs": [
    {
     "name": "stdout",
     "output_type": "stream",
     "text": [
      "Fitted Parameters: A=0.07726323561928414, mu=0.1290779527747792, sigma=0.20004088559610742\n"
     ]
    }
   ],
   "source": [
    "print(f'Fitted Parameters: A={A}, mu={mu}, sigma={sigma}')"
   ]
  },
  {
   "cell_type": "code",
   "execution_count": 57,
   "metadata": {},
   "outputs": [
    {
     "data": {
      "text/plain": [
       "[<matplotlib.lines.Line2D at 0x7fae82297090>]"
      ]
     },
     "execution_count": 57,
     "metadata": {},
     "output_type": "execute_result"
    },
    {
     "data": {
      "image/png": "[encoded data removed]",
      "text/plain": [
       "<Figure size 640x480 with 1 Axes>"
      ]
     },
     "metadata": {},
     "output_type": "display_data"
    }
   ],
   "source": [
    "plt.plot(x_fit, y_fit, '-', label='Fitted Gaussian')\n"
   ]
  },
  {
   "cell_type": "code",
   "execution_count": 13,
   "metadata": {},
   "outputs": [],
   "source": [
    "popt, pcov = curve_fit(gaussian, x, y, p0=[0.05, 1.570, 0.3490])\n",
    "A, mu, sigma = popt\n",
    "\n",
    "# Generate data using the fitted parameters\n",
    "x_fit = np.linspace(0, np.pi, 1000)\n",
    "y_fit = gaussian(x_fit, A, mu, sigma)"
   ]
  },
  {
   "cell_type": "code",
   "execution_count": 14,
   "metadata": {},
   "outputs": [
    {
     "data": {
      "text/plain": [
       "[<matplotlib.lines.Line2D at 0x7fae824386d0>]"
      ]
     },
     "execution_count": 14,
     "metadata": {},
     "output_type": "execute_result"
    },
    {
     "data": {
      "image/png": "[encoded data removed]",
      "text/plain": [
       "<Figure size 640x480 with 1 Axes>"
      ]
     },
     "metadata": {},
     "output_type": "display_data"
    }
   ],
   "source": [
    "plt.plot(x_fit, y_fit, '-', label='Fitted Gaussian')"
   ]
  },
  {
   "cell_type": "code",
   "execution_count": null,
   "metadata": {},
   "outputs": [],
   "source": []
  }
 ],
 "metadata": {
  "kernelspec": {
   "display_name": "myenv",
   "language": "python",
   "name": "python3"
  },
  "language_info": {
   "codemirror_mode": {
    "name": "ipython",
    "version": 3
   },
   "file_extension": ".py",
   "mimetype": "text/x-python",
   "name": "python",
   "nbconvert_exporter": "python",
   "pygments_lexer": "ipython3",
   "version": "3.11.2"
  }
 },
 "nbformat": 4,
 "nbformat_minor": 2
}
